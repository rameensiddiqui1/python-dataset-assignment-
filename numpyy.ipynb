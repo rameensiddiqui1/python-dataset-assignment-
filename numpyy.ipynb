{
 "cells": [
  {
   "cell_type": "code",
   "execution_count": 1,
   "id": "03c9d40c-51b2-40bd-a3f4-7295392735f5",
   "metadata": {},
   "outputs": [
    {
     "name": "stdout",
     "output_type": "stream",
     "text": [
      "2\n",
      "(2, 4)\n"
     ]
    }
   ],
   "source": [
    "import numpy as np\n",
    "\n",
    "data = [[1, 3, 5, 9], [7, 4, 2, 9]]\n",
    "arr2 = np.array(data)\n",
    "print(arr2.ndim) \n",
    "print(arr2.shape)  "
   ]
  },
  {
   "cell_type": "code",
   "execution_count": 2,
   "id": "d2662e0e-3855-4ca9-aab8-ff2c860f31c2",
   "metadata": {},
   "outputs": [],
   "source": [
    "array = np.array([[1,5,0],[7,3,9]])"
   ]
  },
  {
   "cell_type": "code",
   "execution_count": 3,
   "id": "9287e1ef-a855-4fd2-b25e-f90deb0e4a55",
   "metadata": {},
   "outputs": [
    {
     "data": {
      "text/plain": [
       "array([[1, 5, 0],\n",
       "       [7, 3, 9]])"
      ]
     },
     "execution_count": 3,
     "metadata": {},
     "output_type": "execute_result"
    }
   ],
   "source": [
    "array"
   ]
  },
  {
   "cell_type": "code",
   "execution_count": 4,
   "id": "a47d5e89-8d4d-4de5-b6fd-799a53e6b5a8",
   "metadata": {},
   "outputs": [],
   "source": [
    "array = np.eye(3)"
   ]
  },
  {
   "cell_type": "code",
   "execution_count": 5,
   "id": "20b96262-92d4-4730-bbc6-838c1fd2aad5",
   "metadata": {},
   "outputs": [
    {
     "data": {
      "text/plain": [
       "array([[1., 0., 0.],\n",
       "       [0., 1., 0.],\n",
       "       [0., 0., 1.]])"
      ]
     },
     "execution_count": 5,
     "metadata": {},
     "output_type": "execute_result"
    }
   ],
   "source": [
    "array"
   ]
  },
  {
   "cell_type": "code",
   "execution_count": 6,
   "id": "06ae27c6-2e60-44b6-96d5-cfe913260c40",
   "metadata": {},
   "outputs": [],
   "source": [
    "array = np.zeros((2,3))"
   ]
  },
  {
   "cell_type": "code",
   "execution_count": 7,
   "id": "da4833e1-c1d8-4634-bfbf-e2631a9b9266",
   "metadata": {},
   "outputs": [
    {
     "data": {
      "text/plain": [
       "array([[0., 0., 0.],\n",
       "       [0., 0., 0.]])"
      ]
     },
     "execution_count": 7,
     "metadata": {},
     "output_type": "execute_result"
    }
   ],
   "source": [
    "array"
   ]
  },
  {
   "cell_type": "code",
   "execution_count": 8,
   "id": "ca9fcd1b-55fc-477d-b4ce-ad10fbb05d69",
   "metadata": {},
   "outputs": [],
   "source": [
    "array = np.arange(0, 4, 6)"
   ]
  },
  {
   "cell_type": "code",
   "execution_count": 9,
   "id": "54fd3315-e64f-4292-b6df-f19e2bbd6981",
   "metadata": {},
   "outputs": [
    {
     "data": {
      "text/plain": [
       "array([0])"
      ]
     },
     "execution_count": 9,
     "metadata": {},
     "output_type": "execute_result"
    }
   ],
   "source": [
    "array"
   ]
  },
  {
   "cell_type": "code",
   "execution_count": 11,
   "id": "aa28f6f3-71a2-4209-90dc-2f4db2b584e4",
   "metadata": {},
   "outputs": [],
   "source": [
    "array = np.ones((3,3))"
   ]
  },
  {
   "cell_type": "code",
   "execution_count": 12,
   "id": "e1a5d9aa-7108-42ca-898a-3eb77f7674f7",
   "metadata": {},
   "outputs": [
    {
     "data": {
      "text/plain": [
       "array([[1., 1., 1.],\n",
       "       [1., 1., 1.],\n",
       "       [1., 1., 1.]])"
      ]
     },
     "execution_count": 12,
     "metadata": {},
     "output_type": "execute_result"
    }
   ],
   "source": [
    "array"
   ]
  },
  {
   "cell_type": "code",
   "execution_count": 13,
   "id": "f903585f-3320-4117-9a9f-e74428608c95",
   "metadata": {},
   "outputs": [],
   "source": [
    "array = np.random.randint(0, 9, (2,3))"
   ]
  },
  {
   "cell_type": "code",
   "execution_count": 14,
   "id": "7ae8547a-eefc-4fc1-aa02-6d5617ca6007",
   "metadata": {},
   "outputs": [
    {
     "data": {
      "text/plain": [
       "array([[7, 5, 8],\n",
       "       [7, 2, 2]])"
      ]
     },
     "execution_count": 14,
     "metadata": {},
     "output_type": "execute_result"
    }
   ],
   "source": [
    "array"
   ]
  },
  {
   "cell_type": "code",
   "execution_count": 15,
   "id": "75de8d08-0df3-4138-b329-2607e6555715",
   "metadata": {},
   "outputs": [
    {
     "name": "stdout",
     "output_type": "stream",
     "text": [
      "[[ 9.  6. 10.]\n",
      " [ 6.  3.  8.]]\n"
     ]
    }
   ],
   "source": [
    "arr = np.array([[9., 6., 10.], [6., 3., 8.]])\n",
    "print(arr)"
   ]
  },
  {
   "cell_type": "code",
   "execution_count": 16,
   "id": "39903610-94b5-49c0-a82f-c29c1792bb02",
   "metadata": {},
   "outputs": [
    {
     "name": "stdout",
     "output_type": "stream",
     "text": [
      "[[ 81.  36. 100.]\n",
      " [ 36.   9.  64.]]\n"
     ]
    }
   ],
   "source": [
    "print(arr * arr)"
   ]
  },
  {
   "cell_type": "code",
   "execution_count": 17,
   "id": "72186e79-16ca-45f0-a00e-362302833cfc",
   "metadata": {},
   "outputs": [
    {
     "name": "stdout",
     "output_type": "stream",
     "text": [
      "[[0. 0. 0.]\n",
      " [0. 0. 0.]]\n"
     ]
    }
   ],
   "source": [
    "print(arr - arr)"
   ]
  },
  {
   "cell_type": "code",
   "execution_count": 19,
   "id": "32d03819-6b25-4e09-a92b-4f0f8e43dc78",
   "metadata": {},
   "outputs": [
    {
     "name": "stdout",
     "output_type": "stream",
     "text": [
      "[[ 9.  6. 10.]\n",
      " [ 6.  3.  8.]]\n"
     ]
    }
   ],
   "source": [
    "arr = np.array([[9., 6., 10.], [6., 3., 8.]])\n",
    "print(arr)"
   ]
  },
  {
   "cell_type": "code",
   "execution_count": 20,
   "id": "b2ef80d1-eba7-4ce2-9124-c7ff0d784679",
   "metadata": {},
   "outputs": [
    {
     "name": "stdout",
     "output_type": "stream",
     "text": [
      "[[ 81.  36. 100.]\n",
      " [ 36.   9.  64.]]\n"
     ]
    }
   ],
   "source": [
    "print(arr **2)"
   ]
  },
  {
   "cell_type": "code",
   "execution_count": 21,
   "id": "a7f4ca3b-cf88-45cb-be97-22da1f224c9d",
   "metadata": {},
   "outputs": [
    {
     "name": "stdout",
     "output_type": "stream",
     "text": [
      "[[ 6.  9.  5.]\n",
      " [10.  6. 12.]]\n"
     ]
    }
   ],
   "source": [
    "arr2 = np.array([[6., 9., 5.], [10., 6., 12.]])\n",
    "print(arr2)"
   ]
  },
  {
   "cell_type": "code",
   "execution_count": 22,
   "id": "52ec967d-45bb-4645-88a5-39826ad8ab50",
   "metadata": {},
   "outputs": [
    {
     "name": "stdout",
     "output_type": "stream",
     "text": [
      "[[False  True False]\n",
      " [ True  True  True]]\n"
     ]
    }
   ],
   "source": [
    "print(arr2 > arr)"
   ]
  },
  {
   "cell_type": "code",
   "execution_count": 23,
   "id": "1317a9c8-3a6a-4d82-b2f1-a00b1e5bb1c0",
   "metadata": {},
   "outputs": [
    {
     "name": "stdout",
     "output_type": "stream",
     "text": [
      "[0 1 2 3 4 5 6 7 8 9]\n"
     ]
    }
   ],
   "source": [
    "arr = np.arange(10)\n",
    "print(arr) "
   ]
  },
  {
   "cell_type": "code",
   "execution_count": 24,
   "id": "bc334582-6ea4-4bea-b9d3-c8bee3e7d67b",
   "metadata": {},
   "outputs": [
    {
     "name": "stdout",
     "output_type": "stream",
     "text": [
      "7\n"
     ]
    }
   ],
   "source": [
    "print(arr[7])"
   ]
  },
  {
   "cell_type": "code",
   "execution_count": 25,
   "id": "052e9ccd-1a28-4c29-8284-7884479ee3de",
   "metadata": {},
   "outputs": [
    {
     "name": "stdout",
     "output_type": "stream",
     "text": [
      "[5 6 7]\n"
     ]
    }
   ],
   "source": [
    "print(arr[5:8])"
   ]
  },
  {
   "cell_type": "code",
   "execution_count": 26,
   "id": "c788d507-cd3b-4d77-90d2-0f9c6f273285",
   "metadata": {},
   "outputs": [
    {
     "name": "stdout",
     "output_type": "stream",
     "text": [
      "[ 0  1  2  3  4 11 11 11  8  9]\n"
     ]
    }
   ],
   "source": [
    "arr[5:8] = 11\n",
    "print(arr)"
   ]
  },
  {
   "cell_type": "code",
   "execution_count": 27,
   "id": "1042b742-541a-491f-aee9-3fa613606e7d",
   "metadata": {},
   "outputs": [
    {
     "name": "stdout",
     "output_type": "stream",
     "text": [
      "[0 1 2 3 4 5 6 7 8 9]\n"
     ]
    }
   ],
   "source": [
    "arr = np.arange(10)\n",
    "print(arr)   "
   ]
  },
  {
   "cell_type": "code",
   "execution_count": 28,
   "id": "8f350f73-3d42-43e9-80b1-d75831a84327",
   "metadata": {},
   "outputs": [
    {
     "name": "stdout",
     "output_type": "stream",
     "text": [
      "[5 6 7]\n"
     ]
    }
   ],
   "source": [
    "arr_slice = arr[5:8]\n",
    "print(arr_slice)"
   ]
  },
  {
   "cell_type": "code",
   "execution_count": 29,
   "id": "b1d6e4d2-2fd0-49a9-9339-a6ce4ceede26",
   "metadata": {},
   "outputs": [
    {
     "name": "stdout",
     "output_type": "stream",
     "text": [
      "[    0     1     2     3     4     5 12345     7     8     9]\n"
     ]
    }
   ],
   "source": [
    "arr_slice[1] = 12345\n",
    "print(arr)"
   ]
  },
  {
   "cell_type": "code",
   "execution_count": 30,
   "id": "b4d33756-fcf6-4d8b-a6dd-11b2d8b59710",
   "metadata": {},
   "outputs": [
    {
     "name": "stdout",
     "output_type": "stream",
     "text": [
      "[ 0  1  2  3  4 52 52 52  8  9]\n"
     ]
    }
   ],
   "source": [
    "arr_slice[:] = 52\n",
    "print(arr)"
   ]
  },
  {
   "cell_type": "code",
   "execution_count": 31,
   "id": "3bc239b4-8490-43de-99d4-0db9ba9cb42c",
   "metadata": {},
   "outputs": [
    {
     "name": "stdout",
     "output_type": "stream",
     "text": [
      "[7 8 9]\n"
     ]
    }
   ],
   "source": [
    "arr2d = np.array([[1, 2, 3], [4, 5, 6], [7, 8, 9]])\n",
    "print(arr2d[2])       "
   ]
  },
  {
   "cell_type": "code",
   "execution_count": 33,
   "id": "4e593328-80a2-4c13-8c99-5544b55ce3bc",
   "metadata": {},
   "outputs": [
    {
     "name": "stdout",
     "output_type": "stream",
     "text": [
      "3\n"
     ]
    }
   ],
   "source": [
    "print(arr2d[0][2])    "
   ]
  },
  {
   "cell_type": "code",
   "execution_count": 34,
   "id": "23631bab-4520-46ce-a26f-54e30c920a79",
   "metadata": {},
   "outputs": [],
   "source": [
    "arr2d = np.array([[1, 2, 3], [4, 5, 6], [7, 8, 9]])"
   ]
  },
  {
   "cell_type": "code",
   "execution_count": 35,
   "id": "a2e88aff-def5-4846-aa2d-41afef88ba2b",
   "metadata": {},
   "outputs": [
    {
     "name": "stdout",
     "output_type": "stream",
     "text": [
      "[3 6 9]\n"
     ]
    }
   ],
   "source": [
    "arr2d_slice = arr2d[:, -1]\n",
    "print(arr2d_slice)"
   ]
  },
  {
   "cell_type": "code",
   "execution_count": 36,
   "id": "33ff8ee0-bcd5-4348-b1a9-2a400a97066f",
   "metadata": {},
   "outputs": [
    {
     "name": "stdout",
     "output_type": "stream",
     "text": [
      "[5 6]\n"
     ]
    }
   ],
   "source": [
    "arr2d_slice = arr2d[1, -2:]\n",
    "print(arr2d_slice)"
   ]
  },
  {
   "cell_type": "code",
   "execution_count": null,
   "id": "7685ac11-7aa4-46ca-a7a7-84e2b4c90275",
   "metadata": {},
   "outputs": [],
   "source": []
  }
 ],
 "metadata": {
  "kernelspec": {
   "display_name": "Python 3 (ipykernel)",
   "language": "python",
   "name": "python3"
  },
  "language_info": {
   "codemirror_mode": {
    "name": "ipython",
    "version": 3
   },
   "file_extension": ".py",
   "mimetype": "text/x-python",
   "name": "python",
   "nbconvert_exporter": "python",
   "pygments_lexer": "ipython3",
   "version": "3.12.2"
  }
 },
 "nbformat": 4,
 "nbformat_minor": 5
}
